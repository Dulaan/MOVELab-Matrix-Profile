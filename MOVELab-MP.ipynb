{
 "cells": [
  {
   "cell_type": "code",
   "execution_count": 1,
   "id": "03ac8b83-d254-48d4-b217-2a2db82556e3",
   "metadata": {},
   "outputs": [],
   "source": [
    "import matplotlib.pyplot as plt\n",
    "import numpy as np\n",
    "import pandas as pd\n",
    "import geopandas as gpd\n",
    "import stumpy \n",
    "import vaex\n",
    "from motifsearch import merge, motifsearch"
   ]
  },
  {
   "cell_type": "code",
   "execution_count": 2,
   "id": "6ba11fcf-f431-4aba-ace3-ad5e327c7ae0",
   "metadata": {},
   "outputs": [],
   "source": [
    "df = vaex.from_csv('all_minor_sources.csv')"
   ]
  },
  {
   "cell_type": "code",
   "execution_count": 3,
   "id": "86a0d1a7-df4e-431a-bd91-b85902224759",
   "metadata": {},
   "outputs": [],
   "source": [
    "# sdi_umd: Social Distancing Index, staying_home_umd: % at home, county_vmt: vehicle miles traveled per county\n",
    "vars_df = df['fips','ds_m4','state_name','county_name','sdi_umd','staying_home_umd','county_vmt'].to_pandas_df()"
   ]
  },
  {
   "cell_type": "code",
   "execution_count": 4,
   "id": "4320882c-e4fa-4cac-8a03-cc2720d38b6f",
   "metadata": {},
   "outputs": [],
   "source": [
    "vars_df.to_csv(path_or_buf = \"UMD_source.csv\")"
   ]
  },
  {
   "cell_type": "code",
   "execution_count": 5,
   "id": "5738eccb-1a25-4c89-8658-dd484e8439ff",
   "metadata": {},
   "outputs": [],
   "source": [
    "# dates: '2020-12-27','2020-12-28','2020-12-29','2020-12-30','2020-12-31','2021-01-01','2021-01-02','2021-01-03','2021-01-04','2021-01-05','2021-01-06','2021-01-07','2021-01-08','2021-01-09','2021-01-10','2021-01-11','2021-01-12',"
   ]
  },
  {
   "cell_type": "code",
   "execution_count": 4,
   "id": "c4b126cc-3947-4a4c-a625-3f0cef7efce9",
   "metadata": {},
   "outputs": [],
   "source": [
    "vars_df = vars_df[-vars_df['ds_m4'].isin(['2021-01-13','2021-01-14','2021-01-15','2021-01-16','2021-01-17','2021-01-18','2021-01-19','2021-01-20'])]"
   ]
  },
  {
   "cell_type": "code",
   "execution_count": 5,
   "id": "af35d9ec-45be-425d-97e9-7f75df994bbb",
   "metadata": {},
   "outputs": [],
   "source": [
    "vars_df = vars_df.fillna(vars_df.rolling(7,min_periods = 2).mean())"
   ]
  },
  {
   "cell_type": "code",
   "execution_count": 6,
   "id": "72bfbf69-3351-4026-ae4e-bb598e71eb4d",
   "metadata": {},
   "outputs": [],
   "source": [
    "fips_df = pd.read_csv('state_and_county_fips_master.csv')"
   ]
  },
  {
   "cell_type": "code",
   "execution_count": 7,
   "id": "2b769265-ee8f-44a0-ab23-98fb229b8031",
   "metadata": {},
   "outputs": [],
   "source": [
    "df2 = pd.merge(vars_df,fips_df, on = 'fips', how = 'left')\n",
    "df2.drop(columns = ['county_name','state_name'], inplace = True)"
   ]
  },
  {
   "cell_type": "code",
   "execution_count": 8,
   "id": "a99ef740-b41d-4adc-bdf2-7c28c9361535",
   "metadata": {},
   "outputs": [
    {
     "data": {
      "text/plain": [
       "0         SC\n",
       "1         SC\n",
       "2         SC\n",
       "3         SC\n",
       "4         SC\n",
       "          ..\n",
       "233786    KS\n",
       "233787    KS\n",
       "233788    KS\n",
       "233789    KS\n",
       "233790    KS\n",
       "Name: state, Length: 233791, dtype: object"
      ]
     },
     "execution_count": 8,
     "metadata": {},
     "output_type": "execute_result"
    }
   ],
   "source": [
    "df2['state']"
   ]
  },
  {
   "cell_type": "code",
   "execution_count": 11,
   "id": "61951870-bf8e-4918-a294-e38e6c6c7e15",
   "metadata": {},
   "outputs": [],
   "source": [
    "# clean up None county values\n",
    "# nation_mp = {}\n",
    "# for state in df3['STATE_NAME'].unique():\n",
    "#     if type(state) == str:\n",
    "#         state_data = df3[df3['STATE_NAME'] == state].copy()\n",
    "#         counties = len(df3[df3['STATE_NAME'] == state]['name'].unique())\n",
    "#         nation_mp[state] = motifsearch(state_data, 'sdi_umd','name',counties, min_coeff = 1.3)"
   ]
  },
  {
   "cell_type": "code",
   "execution_count": 12,
   "id": "8abf1846-e9d5-4a1b-a39f-2dfe5ceeb1ae",
   "metadata": {},
   "outputs": [],
   "source": [
    "# nation_mp = motifsearch(df3, 'sdi_umd','name',len(df3['name'].unique()),min_coeff=1.3)"
   ]
  },
  {
   "cell_type": "code",
   "execution_count": 13,
   "id": "0f969506-76b9-430e-b58c-08013226837d",
   "metadata": {},
   "outputs": [],
   "source": [
    "# nation_mp"
   ]
  },
  {
   "cell_type": "code",
   "execution_count": 9,
   "id": "f8488917-c67b-4a40-aa48-4fd71141d70e",
   "metadata": {},
   "outputs": [
    {
     "ename": "NameError",
     "evalue": "name 'sorted_ca_df' is not defined",
     "output_type": "error",
     "traceback": [
      "\u001b[0;31m---------------------------------------------------------------------------\u001b[0m",
      "\u001b[0;31mNameError\u001b[0m                                 Traceback (most recent call last)",
      "\u001b[0;32m/tmp/ipykernel_3246546/565120382.py\u001b[0m in \u001b[0;36m<module>\u001b[0;34m\u001b[0m\n\u001b[0;32m----> 1\u001b[0;31m test2mp =stumpy.stump(T_A = sorted_ca_df[sorted_ca_df['county_name'] == 'Alameda']['sg_avg_dist2'],\n\u001b[0m\u001b[1;32m      2\u001b[0m                         \u001b[0mm\u001b[0m \u001b[0;34m=\u001b[0m \u001b[0;36m386\u001b[0m\u001b[0;34m,\u001b[0m\u001b[0;34m\u001b[0m\u001b[0;34m\u001b[0m\u001b[0m\n\u001b[1;32m      3\u001b[0m                         \u001b[0mT_B\u001b[0m \u001b[0;34m=\u001b[0m \u001b[0msorted_ca_df\u001b[0m\u001b[0;34m[\u001b[0m\u001b[0msorted_ca_df\u001b[0m\u001b[0;34m[\u001b[0m\u001b[0;34m'county_name'\u001b[0m\u001b[0;34m]\u001b[0m \u001b[0;34m==\u001b[0m \u001b[0;34m'Santa Clara'\u001b[0m\u001b[0;34m]\u001b[0m\u001b[0;34m[\u001b[0m\u001b[0;34m'sg_avg_dist2'\u001b[0m\u001b[0;34m]\u001b[0m\u001b[0;34m,\u001b[0m\u001b[0;34m\u001b[0m\u001b[0;34m\u001b[0m\u001b[0m\n\u001b[1;32m      4\u001b[0m                         ignore_trivial = False)\n",
      "\u001b[0;31mNameError\u001b[0m: name 'sorted_ca_df' is not defined"
     ]
    }
   ],
   "source": [
    "# test2mp =stumpy.stump(T_A = sorted_ca_df[sorted_ca_df['county_name'] == 'Alameda']['sg_avg_dist2'],\n",
    "#                         m = 386,\n",
    "#                         T_B = sorted_ca_df[sorted_ca_df['county_name'] == 'Santa Clara']['sg_avg_dist2'],\n",
    "#                         ignore_trivial = False)"
   ]
  },
  {
   "cell_type": "code",
   "execution_count": 10,
   "id": "526aa412-10c0-4dd2-8e24-09d6b5ae044c",
   "metadata": {},
   "outputs": [],
   "source": [
    "gdf = gpd.read_file('UScounties.shp')"
   ]
  },
  {
   "cell_type": "code",
   "execution_count": 11,
   "id": "d23a793f-ddc2-4672-b316-81603ca6f07d",
   "metadata": {},
   "outputs": [],
   "source": [
    "gdf.rename({'FIPS':'fips'},axis = 1, inplace = True)"
   ]
  },
  {
   "cell_type": "code",
   "execution_count": 12,
   "id": "0ca6f2c3-365a-4adb-ad21-e0d3bb297da0",
   "metadata": {},
   "outputs": [],
   "source": [
    "gdf['fips'] = pd.to_numeric(gdf['fips'])"
   ]
  },
  {
   "cell_type": "code",
   "execution_count": 13,
   "id": "46ffe56f-cde2-423c-8cf3-7b4e69a55317",
   "metadata": {},
   "outputs": [],
   "source": [
    "df3 = pd.merge(df2, gdf[['geometry','fips','STATE_NAME']], on = 'fips', how = 'left')"
   ]
  },
  {
   "cell_type": "code",
   "execution_count": 14,
   "id": "7b4cc7a9-1ce4-4a54-b7e9-31a1132e53e2",
   "metadata": {},
   "outputs": [
    {
     "data": {
      "text/html": [
       "<div>\n",
       "<style scoped>\n",
       "    .dataframe tbody tr th:only-of-type {\n",
       "        vertical-align: middle;\n",
       "    }\n",
       "\n",
       "    .dataframe tbody tr th {\n",
       "        vertical-align: top;\n",
       "    }\n",
       "\n",
       "    .dataframe thead th {\n",
       "        text-align: right;\n",
       "    }\n",
       "</style>\n",
       "<table border=\"1\" class=\"dataframe\">\n",
       "  <thead>\n",
       "    <tr style=\"text-align: right;\">\n",
       "      <th></th>\n",
       "      <th>fips</th>\n",
       "      <th>ds_m4</th>\n",
       "      <th>sdi_umd</th>\n",
       "      <th>staying_home_umd</th>\n",
       "      <th>county_vmt</th>\n",
       "      <th>name</th>\n",
       "      <th>state</th>\n",
       "      <th>geometry</th>\n",
       "      <th>STATE_NAME</th>\n",
       "    </tr>\n",
       "  </thead>\n",
       "  <tbody>\n",
       "    <tr>\n",
       "      <th>0</th>\n",
       "      <td>45035</td>\n",
       "      <td>2020-01-01</td>\n",
       "      <td>56.0</td>\n",
       "      <td>31.0</td>\n",
       "      <td>2.440000e+06</td>\n",
       "      <td>Dorchester County</td>\n",
       "      <td>SC</td>\n",
       "      <td>POLYGON ((-80.39349 32.85594, -80.39522 32.874...</td>\n",
       "      <td>South Carolina</td>\n",
       "    </tr>\n",
       "    <tr>\n",
       "      <th>1</th>\n",
       "      <td>45035</td>\n",
       "      <td>2020-01-02</td>\n",
       "      <td>21.0</td>\n",
       "      <td>18.0</td>\n",
       "      <td>3.400000e+06</td>\n",
       "      <td>Dorchester County</td>\n",
       "      <td>SC</td>\n",
       "      <td>POLYGON ((-80.39349 32.85594, -80.39522 32.874...</td>\n",
       "      <td>South Carolina</td>\n",
       "    </tr>\n",
       "    <tr>\n",
       "      <th>2</th>\n",
       "      <td>45035</td>\n",
       "      <td>2020-01-03</td>\n",
       "      <td>17.0</td>\n",
       "      <td>17.0</td>\n",
       "      <td>3.950000e+06</td>\n",
       "      <td>Dorchester County</td>\n",
       "      <td>SC</td>\n",
       "      <td>POLYGON ((-80.39349 32.85594, -80.39522 32.874...</td>\n",
       "      <td>South Carolina</td>\n",
       "    </tr>\n",
       "    <tr>\n",
       "      <th>3</th>\n",
       "      <td>45035</td>\n",
       "      <td>2020-01-04</td>\n",
       "      <td>36.0</td>\n",
       "      <td>23.0</td>\n",
       "      <td>3.570000e+06</td>\n",
       "      <td>Dorchester County</td>\n",
       "      <td>SC</td>\n",
       "      <td>POLYGON ((-80.39349 32.85594, -80.39522 32.874...</td>\n",
       "      <td>South Carolina</td>\n",
       "    </tr>\n",
       "    <tr>\n",
       "      <th>4</th>\n",
       "      <td>45035</td>\n",
       "      <td>2020-01-05</td>\n",
       "      <td>46.0</td>\n",
       "      <td>28.0</td>\n",
       "      <td>2.810000e+06</td>\n",
       "      <td>Dorchester County</td>\n",
       "      <td>SC</td>\n",
       "      <td>POLYGON ((-80.39349 32.85594, -80.39522 32.874...</td>\n",
       "      <td>South Carolina</td>\n",
       "    </tr>\n",
       "    <tr>\n",
       "      <th>...</th>\n",
       "      <td>...</td>\n",
       "      <td>...</td>\n",
       "      <td>...</td>\n",
       "      <td>...</td>\n",
       "      <td>...</td>\n",
       "      <td>...</td>\n",
       "      <td>...</td>\n",
       "      <td>...</td>\n",
       "      <td>...</td>\n",
       "    </tr>\n",
       "    <tr>\n",
       "      <th>233786</th>\n",
       "      <td>20011</td>\n",
       "      <td>2020-07-01</td>\n",
       "      <td>27.0</td>\n",
       "      <td>27.0</td>\n",
       "      <td>5.790000e+05</td>\n",
       "      <td>Bourbon County</td>\n",
       "      <td>KS</td>\n",
       "      <td>POLYGON ((-95.08302 37.67559, -95.08315 37.727...</td>\n",
       "      <td>Kansas</td>\n",
       "    </tr>\n",
       "    <tr>\n",
       "      <th>233787</th>\n",
       "      <td>20011</td>\n",
       "      <td>2020-07-02</td>\n",
       "      <td>18.0</td>\n",
       "      <td>23.0</td>\n",
       "      <td>6.100000e+05</td>\n",
       "      <td>Bourbon County</td>\n",
       "      <td>KS</td>\n",
       "      <td>POLYGON ((-95.08302 37.67559, -95.08315 37.727...</td>\n",
       "      <td>Kansas</td>\n",
       "    </tr>\n",
       "    <tr>\n",
       "      <th>233788</th>\n",
       "      <td>20011</td>\n",
       "      <td>2020-07-03</td>\n",
       "      <td>27.0</td>\n",
       "      <td>26.0</td>\n",
       "      <td>6.430000e+05</td>\n",
       "      <td>Bourbon County</td>\n",
       "      <td>KS</td>\n",
       "      <td>POLYGON ((-95.08302 37.67559, -95.08315 37.727...</td>\n",
       "      <td>Kansas</td>\n",
       "    </tr>\n",
       "    <tr>\n",
       "      <th>233789</th>\n",
       "      <td>20011</td>\n",
       "      <td>2020-07-04</td>\n",
       "      <td>40.0</td>\n",
       "      <td>29.0</td>\n",
       "      <td>4.410000e+05</td>\n",
       "      <td>Bourbon County</td>\n",
       "      <td>KS</td>\n",
       "      <td>POLYGON ((-95.08302 37.67559, -95.08315 37.727...</td>\n",
       "      <td>Kansas</td>\n",
       "    </tr>\n",
       "    <tr>\n",
       "      <th>233790</th>\n",
       "      <td>20011</td>\n",
       "      <td>2020-07-05</td>\n",
       "      <td>46.0</td>\n",
       "      <td>38.0</td>\n",
       "      <td>5.306667e+05</td>\n",
       "      <td>Bourbon County</td>\n",
       "      <td>KS</td>\n",
       "      <td>POLYGON ((-95.08302 37.67559, -95.08315 37.727...</td>\n",
       "      <td>Kansas</td>\n",
       "    </tr>\n",
       "  </tbody>\n",
       "</table>\n",
       "<p>233791 rows × 9 columns</p>\n",
       "</div>"
      ],
      "text/plain": [
       "         fips       ds_m4  sdi_umd  staying_home_umd    county_vmt  \\\n",
       "0       45035  2020-01-01     56.0              31.0  2.440000e+06   \n",
       "1       45035  2020-01-02     21.0              18.0  3.400000e+06   \n",
       "2       45035  2020-01-03     17.0              17.0  3.950000e+06   \n",
       "3       45035  2020-01-04     36.0              23.0  3.570000e+06   \n",
       "4       45035  2020-01-05     46.0              28.0  2.810000e+06   \n",
       "...       ...         ...      ...               ...           ...   \n",
       "233786  20011  2020-07-01     27.0              27.0  5.790000e+05   \n",
       "233787  20011  2020-07-02     18.0              23.0  6.100000e+05   \n",
       "233788  20011  2020-07-03     27.0              26.0  6.430000e+05   \n",
       "233789  20011  2020-07-04     40.0              29.0  4.410000e+05   \n",
       "233790  20011  2020-07-05     46.0              38.0  5.306667e+05   \n",
       "\n",
       "                     name state  \\\n",
       "0       Dorchester County    SC   \n",
       "1       Dorchester County    SC   \n",
       "2       Dorchester County    SC   \n",
       "3       Dorchester County    SC   \n",
       "4       Dorchester County    SC   \n",
       "...                   ...   ...   \n",
       "233786     Bourbon County    KS   \n",
       "233787     Bourbon County    KS   \n",
       "233788     Bourbon County    KS   \n",
       "233789     Bourbon County    KS   \n",
       "233790     Bourbon County    KS   \n",
       "\n",
       "                                                 geometry      STATE_NAME  \n",
       "0       POLYGON ((-80.39349 32.85594, -80.39522 32.874...  South Carolina  \n",
       "1       POLYGON ((-80.39349 32.85594, -80.39522 32.874...  South Carolina  \n",
       "2       POLYGON ((-80.39349 32.85594, -80.39522 32.874...  South Carolina  \n",
       "3       POLYGON ((-80.39349 32.85594, -80.39522 32.874...  South Carolina  \n",
       "4       POLYGON ((-80.39349 32.85594, -80.39522 32.874...  South Carolina  \n",
       "...                                                   ...             ...  \n",
       "233786  POLYGON ((-95.08302 37.67559, -95.08315 37.727...          Kansas  \n",
       "233787  POLYGON ((-95.08302 37.67559, -95.08315 37.727...          Kansas  \n",
       "233788  POLYGON ((-95.08302 37.67559, -95.08315 37.727...          Kansas  \n",
       "233789  POLYGON ((-95.08302 37.67559, -95.08315 37.727...          Kansas  \n",
       "233790  POLYGON ((-95.08302 37.67559, -95.08315 37.727...          Kansas  \n",
       "\n",
       "[233791 rows x 9 columns]"
      ]
     },
     "execution_count": 14,
     "metadata": {},
     "output_type": "execute_result"
    }
   ],
   "source": [
    "df3"
   ]
  },
  {
   "cell_type": "code",
   "execution_count": 15,
   "id": "8fd266d8-bc0f-4afb-a15e-d4be7e00b313",
   "metadata": {},
   "outputs": [],
   "source": [
    "wdf = df3.drop_duplicates()"
   ]
  },
  {
   "cell_type": "code",
   "execution_count": 36,
   "id": "70518d8e-4663-40ba-8b91-62b032f25d7b",
   "metadata": {},
   "outputs": [],
   "source": [
    "df3.to_csv(path_or_buf = \"wdf_clean.csv\")"
   ]
  },
  {
   "cell_type": "code",
   "execution_count": 25,
   "id": "cd6c7907-31f6-4983-a46d-560084caf9f7",
   "metadata": {},
   "outputs": [
    {
     "data": {
      "text/plain": [
       "233982"
      ]
     },
     "execution_count": 25,
     "metadata": {},
     "output_type": "execute_result"
    }
   ],
   "source": [
    "len(df3['fips'].unique())*378"
   ]
  },
  {
   "cell_type": "code",
   "execution_count": null,
   "id": "5d1b99d5-5a49-44e1-9ec4-e75e176f1503",
   "metadata": {},
   "outputs": [],
   "source": []
  },
  {
   "cell_type": "code",
   "execution_count": null,
   "id": "48f4b4f2-dddc-46d9-aa01-d62ba62437fc",
   "metadata": {},
   "outputs": [],
   "source": [
    "# def graph_state(state, neighbor_data, geo_data):\n",
    "#     '''\n",
    "#     state = string abbreviation of state\n",
    "#     data = neighbors dict\n",
    "#     '''\n",
    "#     geo_state = geo_data[geo_data['STATE_NAME'] == state].copy()\n",
    "#     geo_state['Group'] = np.nan\n",
    "    \n",
    "#     for cluster in neighbor_data[state]:\n",
    "#         for county in list(cluster):\n",
    "#             geo_state.loc[geo_state['name'] == county,['Group']] = str(cluster)\n",
    "            \n",
    "#     fig,ax = plt.subplots(1)\n",
    "#     geo_state.plot(column = 'Group',legend = True, cmap = 'Set3',ax = ax, missing_kwds = {\"color\":\"grey\"})\n",
    "#     fig.set_size_inches(11,11)"
   ]
  },
  {
   "cell_type": "code",
   "execution_count": null,
   "id": "2227af06-b810-40a3-8648-82623b7e9f02",
   "metadata": {},
   "outputs": [],
   "source": [
    "# this is functional for all UMD data. \n",
    "graph_state('California',nation_mp,us_gdf)"
   ]
  },
  {
   "cell_type": "code",
   "execution_count": null,
   "id": "5313c4cb-ff58-4236-823b-639c071f9dbc",
   "metadata": {},
   "outputs": [],
   "source": [
    "# for state in nation_mp.keys():\n",
    "#     us_gdf['Group'] = np.nan\n",
    "#     for cluster in nation_mp[state]:\n",
    "#         for county in list(cluster):\n",
    "#             us_gdf.loc[us_gdf['name'] == county,['Group']] = str(cluster)\n",
    "# us_gdf.plot(column = 'Group', legend = False, missing_kwds = {\"color\":\"grey\"})"
   ]
  },
  {
   "cell_type": "code",
   "execution_count": null,
   "id": "a1d149a1-8c25-4e4e-83df-66f6b01f3513",
   "metadata": {},
   "outputs": [],
   "source": [
    "lst = [1,2,3,4,5,6,7,8,9,10]\n",
    "for i in range(2,15,3):\n",
    "    print(i)\n",
    "    lst.insert(i, np.nan)\n",
    "print(lst)"
   ]
  },
  {
   "cell_type": "code",
   "execution_count": 29,
   "id": "b950e836-9e9a-467f-8e77-d3251434495d",
   "metadata": {},
   "outputs": [],
   "source": [
    "def motifsearch2(df,x,id,counties, minval = None, motifpairs = [], min_coeff = 1.5, firstround = True):\n",
    "    if firstround == True:\n",
    "        motifpairs = []\n",
    "        \n",
    "    vals = df[x].values.tolist()\n",
    "    \n",
    "    for i in range(379,len(vals)+counties,379):\n",
    "        vals.insert(i,np.nan)\n",
    "        \n",
    "    vals = np.asarray(vals)\n",
    "    \n",
    "    mp = stumpy.stump(vals,378).astype(np.float64)\n",
    "    \n",
    "    # set minimum value\n",
    "    \n",
    "    if minval == None:\n",
    "        minval = np.sort(mp[:,0])[0]\n",
    "    if np.sort(mp[:,0])[0] >=min_coeff*minval:\n",
    "        return merge(motifpairs)\n",
    "    \n",
    "    SMI = np.argsort(mp[:,0])[0]\n",
    "    motif_idx = SMI-(SMI//379)\n",
    "    SNI = mp[motif_idx,1]\n",
    "    neighbor_idx = SNI-(SNI//379)\n",
    "    motif_county = df.iloc[motif_idx][id]\n",
    "    \n",
    "    neighbor_county = df.iloc[int(neighbor_idx)][id]\n",
    "    print(motif_county,neighbor_county, np.sort(mp[:,0])[0], min_coeff*minval)\n",
    "    motifpairs.append([motif_county,neighbor_county])\n",
    "    newdf = df.drop(df.loc[df[id] == neighbor_county].index)\n",
    "    \n",
    "    return motifsearch2(newdf,x,id, minval = minval,motifpairs = motifpairs, min_coeff = min_coeff, counties = counties-1, firstround = False)"
   ]
  },
  {
   "cell_type": "code",
   "execution_count": 30,
   "id": "0ec97e67-928b-4681-b34c-aa8dc43e669c",
   "metadata": {},
   "outputs": [
    {
     "name": "stdout",
     "output_type": "stream",
     "text": [
      "Santa Clara County Dorchester County 3.2337786307135223 3.8805343568562267\n",
      "Alameda County Osborne County 3.233778630713561 3.8805343568562267\n",
      "Alameda County Sitka City and Borough 3.233778630713496 3.8805343568562267\n",
      "Santa Clara County Boyle County 3.2337786307124188 3.8805343568562267\n",
      "Santa Clara County Isanti County 3.233778630709538 3.8805343568562267\n",
      "Santa Clara County Colorado County 3.233778630712925 3.8805343568562267\n",
      "Santa Clara County Marshall County 3.2337786307127305 3.8805343568562267\n",
      "Alameda County Dakota County 3.233778630714716 3.8805343568562267\n",
      "Santa Clara County Haines Borough 3.2337786307107965 3.8805343568562267\n",
      "Santa Clara County Manassas city 3.2337786307120298 3.8805343568562267\n"
     ]
    },
    {
     "ename": "KeyboardInterrupt",
     "evalue": "",
     "output_type": "error",
     "traceback": [
      "\u001b[0;31m---------------------------------------------------------------------------\u001b[0m",
      "\u001b[0;31mKeyboardInterrupt\u001b[0m                         Traceback (most recent call last)",
      "\u001b[0;32m/tmp/ipykernel_3232164/3565990874.py\u001b[0m in \u001b[0;36m<module>\u001b[0;34m\u001b[0m\n\u001b[0;32m----> 1\u001b[0;31m \u001b[0mnation_mp\u001b[0m \u001b[0;34m=\u001b[0m \u001b[0mmotifsearch2\u001b[0m\u001b[0;34m(\u001b[0m\u001b[0mdf3\u001b[0m\u001b[0;34m,\u001b[0m \u001b[0;34m'sdi_umd'\u001b[0m\u001b[0;34m,\u001b[0m\u001b[0;34m'name'\u001b[0m\u001b[0;34m,\u001b[0m\u001b[0mlen\u001b[0m\u001b[0;34m(\u001b[0m\u001b[0mdf3\u001b[0m\u001b[0;34m[\u001b[0m\u001b[0;34m'name'\u001b[0m\u001b[0;34m]\u001b[0m\u001b[0;34m.\u001b[0m\u001b[0munique\u001b[0m\u001b[0;34m(\u001b[0m\u001b[0;34m)\u001b[0m\u001b[0;34m)\u001b[0m\u001b[0;34m,\u001b[0m\u001b[0mmin_coeff\u001b[0m\u001b[0;34m=\u001b[0m\u001b[0;36m1.2\u001b[0m\u001b[0;34m)\u001b[0m\u001b[0;34m\u001b[0m\u001b[0;34m\u001b[0m\u001b[0m\n\u001b[0m",
      "\u001b[0;32m/tmp/ipykernel_3232164/3227679587.py\u001b[0m in \u001b[0;36mmotifsearch2\u001b[0;34m(df, x, id, counties, minval, motifpairs, min_coeff, firstround)\u001b[0m\n\u001b[1;32m     30\u001b[0m     \u001b[0mnewdf\u001b[0m \u001b[0;34m=\u001b[0m \u001b[0mdf\u001b[0m\u001b[0;34m.\u001b[0m\u001b[0mdrop\u001b[0m\u001b[0;34m(\u001b[0m\u001b[0mdf\u001b[0m\u001b[0;34m.\u001b[0m\u001b[0mloc\u001b[0m\u001b[0;34m[\u001b[0m\u001b[0mdf\u001b[0m\u001b[0;34m[\u001b[0m\u001b[0mid\u001b[0m\u001b[0;34m]\u001b[0m \u001b[0;34m==\u001b[0m \u001b[0mneighbor_county\u001b[0m\u001b[0;34m]\u001b[0m\u001b[0;34m.\u001b[0m\u001b[0mindex\u001b[0m\u001b[0;34m)\u001b[0m\u001b[0;34m\u001b[0m\u001b[0;34m\u001b[0m\u001b[0m\n\u001b[1;32m     31\u001b[0m \u001b[0;34m\u001b[0m\u001b[0m\n\u001b[0;32m---> 32\u001b[0;31m     \u001b[0;32mreturn\u001b[0m \u001b[0mmotifsearch2\u001b[0m\u001b[0;34m(\u001b[0m\u001b[0mnewdf\u001b[0m\u001b[0;34m,\u001b[0m\u001b[0mx\u001b[0m\u001b[0;34m,\u001b[0m\u001b[0mid\u001b[0m\u001b[0;34m,\u001b[0m \u001b[0mminval\u001b[0m \u001b[0;34m=\u001b[0m \u001b[0mminval\u001b[0m\u001b[0;34m,\u001b[0m\u001b[0mmotifpairs\u001b[0m \u001b[0;34m=\u001b[0m \u001b[0mmotifpairs\u001b[0m\u001b[0;34m,\u001b[0m \u001b[0mmin_coeff\u001b[0m \u001b[0;34m=\u001b[0m \u001b[0mmin_coeff\u001b[0m\u001b[0;34m,\u001b[0m \u001b[0mcounties\u001b[0m \u001b[0;34m=\u001b[0m \u001b[0mcounties\u001b[0m\u001b[0;34m-\u001b[0m\u001b[0;36m1\u001b[0m\u001b[0;34m,\u001b[0m \u001b[0mfirstround\u001b[0m \u001b[0;34m=\u001b[0m \u001b[0;32mFalse\u001b[0m\u001b[0;34m)\u001b[0m\u001b[0;34m\u001b[0m\u001b[0;34m\u001b[0m\u001b[0m\n\u001b[0m",
      "\u001b[0;32m/tmp/ipykernel_3232164/3227679587.py\u001b[0m in \u001b[0;36mmotifsearch2\u001b[0;34m(df, x, id, counties, minval, motifpairs, min_coeff, firstround)\u001b[0m\n\u001b[1;32m     30\u001b[0m     \u001b[0mnewdf\u001b[0m \u001b[0;34m=\u001b[0m \u001b[0mdf\u001b[0m\u001b[0;34m.\u001b[0m\u001b[0mdrop\u001b[0m\u001b[0;34m(\u001b[0m\u001b[0mdf\u001b[0m\u001b[0;34m.\u001b[0m\u001b[0mloc\u001b[0m\u001b[0;34m[\u001b[0m\u001b[0mdf\u001b[0m\u001b[0;34m[\u001b[0m\u001b[0mid\u001b[0m\u001b[0;34m]\u001b[0m \u001b[0;34m==\u001b[0m \u001b[0mneighbor_county\u001b[0m\u001b[0;34m]\u001b[0m\u001b[0;34m.\u001b[0m\u001b[0mindex\u001b[0m\u001b[0;34m)\u001b[0m\u001b[0;34m\u001b[0m\u001b[0;34m\u001b[0m\u001b[0m\n\u001b[1;32m     31\u001b[0m \u001b[0;34m\u001b[0m\u001b[0m\n\u001b[0;32m---> 32\u001b[0;31m     \u001b[0;32mreturn\u001b[0m \u001b[0mmotifsearch2\u001b[0m\u001b[0;34m(\u001b[0m\u001b[0mnewdf\u001b[0m\u001b[0;34m,\u001b[0m\u001b[0mx\u001b[0m\u001b[0;34m,\u001b[0m\u001b[0mid\u001b[0m\u001b[0;34m,\u001b[0m \u001b[0mminval\u001b[0m \u001b[0;34m=\u001b[0m \u001b[0mminval\u001b[0m\u001b[0;34m,\u001b[0m\u001b[0mmotifpairs\u001b[0m \u001b[0;34m=\u001b[0m \u001b[0mmotifpairs\u001b[0m\u001b[0;34m,\u001b[0m \u001b[0mmin_coeff\u001b[0m \u001b[0;34m=\u001b[0m \u001b[0mmin_coeff\u001b[0m\u001b[0;34m,\u001b[0m \u001b[0mcounties\u001b[0m \u001b[0;34m=\u001b[0m \u001b[0mcounties\u001b[0m\u001b[0;34m-\u001b[0m\u001b[0;36m1\u001b[0m\u001b[0;34m,\u001b[0m \u001b[0mfirstround\u001b[0m \u001b[0;34m=\u001b[0m \u001b[0;32mFalse\u001b[0m\u001b[0;34m)\u001b[0m\u001b[0;34m\u001b[0m\u001b[0;34m\u001b[0m\u001b[0m\n\u001b[0m",
      "\u001b[0;32m/tmp/ipykernel_3232164/3227679587.py\u001b[0m in \u001b[0;36mmotifsearch2\u001b[0;34m(df, x, id, counties, minval, motifpairs, min_coeff, firstround)\u001b[0m\n\u001b[1;32m     30\u001b[0m     \u001b[0mnewdf\u001b[0m \u001b[0;34m=\u001b[0m \u001b[0mdf\u001b[0m\u001b[0;34m.\u001b[0m\u001b[0mdrop\u001b[0m\u001b[0;34m(\u001b[0m\u001b[0mdf\u001b[0m\u001b[0;34m.\u001b[0m\u001b[0mloc\u001b[0m\u001b[0;34m[\u001b[0m\u001b[0mdf\u001b[0m\u001b[0;34m[\u001b[0m\u001b[0mid\u001b[0m\u001b[0;34m]\u001b[0m \u001b[0;34m==\u001b[0m \u001b[0mneighbor_county\u001b[0m\u001b[0;34m]\u001b[0m\u001b[0;34m.\u001b[0m\u001b[0mindex\u001b[0m\u001b[0;34m)\u001b[0m\u001b[0;34m\u001b[0m\u001b[0;34m\u001b[0m\u001b[0m\n\u001b[1;32m     31\u001b[0m \u001b[0;34m\u001b[0m\u001b[0m\n\u001b[0;32m---> 32\u001b[0;31m     \u001b[0;32mreturn\u001b[0m \u001b[0mmotifsearch2\u001b[0m\u001b[0;34m(\u001b[0m\u001b[0mnewdf\u001b[0m\u001b[0;34m,\u001b[0m\u001b[0mx\u001b[0m\u001b[0;34m,\u001b[0m\u001b[0mid\u001b[0m\u001b[0;34m,\u001b[0m \u001b[0mminval\u001b[0m \u001b[0;34m=\u001b[0m \u001b[0mminval\u001b[0m\u001b[0;34m,\u001b[0m\u001b[0mmotifpairs\u001b[0m \u001b[0;34m=\u001b[0m \u001b[0mmotifpairs\u001b[0m\u001b[0;34m,\u001b[0m \u001b[0mmin_coeff\u001b[0m \u001b[0;34m=\u001b[0m \u001b[0mmin_coeff\u001b[0m\u001b[0;34m,\u001b[0m \u001b[0mcounties\u001b[0m \u001b[0;34m=\u001b[0m \u001b[0mcounties\u001b[0m\u001b[0;34m-\u001b[0m\u001b[0;36m1\u001b[0m\u001b[0;34m,\u001b[0m \u001b[0mfirstround\u001b[0m \u001b[0;34m=\u001b[0m \u001b[0;32mFalse\u001b[0m\u001b[0;34m)\u001b[0m\u001b[0;34m\u001b[0m\u001b[0;34m\u001b[0m\u001b[0m\n\u001b[0m",
      "\u001b[0;32m/tmp/ipykernel_3232164/3227679587.py\u001b[0m in \u001b[0;36mmotifsearch2\u001b[0;34m(df, x, id, counties, minval, motifpairs, min_coeff, firstround)\u001b[0m\n\u001b[1;32m     30\u001b[0m     \u001b[0mnewdf\u001b[0m \u001b[0;34m=\u001b[0m \u001b[0mdf\u001b[0m\u001b[0;34m.\u001b[0m\u001b[0mdrop\u001b[0m\u001b[0;34m(\u001b[0m\u001b[0mdf\u001b[0m\u001b[0;34m.\u001b[0m\u001b[0mloc\u001b[0m\u001b[0;34m[\u001b[0m\u001b[0mdf\u001b[0m\u001b[0;34m[\u001b[0m\u001b[0mid\u001b[0m\u001b[0;34m]\u001b[0m \u001b[0;34m==\u001b[0m \u001b[0mneighbor_county\u001b[0m\u001b[0;34m]\u001b[0m\u001b[0;34m.\u001b[0m\u001b[0mindex\u001b[0m\u001b[0;34m)\u001b[0m\u001b[0;34m\u001b[0m\u001b[0;34m\u001b[0m\u001b[0m\n\u001b[1;32m     31\u001b[0m \u001b[0;34m\u001b[0m\u001b[0m\n\u001b[0;32m---> 32\u001b[0;31m     \u001b[0;32mreturn\u001b[0m \u001b[0mmotifsearch2\u001b[0m\u001b[0;34m(\u001b[0m\u001b[0mnewdf\u001b[0m\u001b[0;34m,\u001b[0m\u001b[0mx\u001b[0m\u001b[0;34m,\u001b[0m\u001b[0mid\u001b[0m\u001b[0;34m,\u001b[0m \u001b[0mminval\u001b[0m \u001b[0;34m=\u001b[0m \u001b[0mminval\u001b[0m\u001b[0;34m,\u001b[0m\u001b[0mmotifpairs\u001b[0m \u001b[0;34m=\u001b[0m \u001b[0mmotifpairs\u001b[0m\u001b[0;34m,\u001b[0m \u001b[0mmin_coeff\u001b[0m \u001b[0;34m=\u001b[0m \u001b[0mmin_coeff\u001b[0m\u001b[0;34m,\u001b[0m \u001b[0mcounties\u001b[0m \u001b[0;34m=\u001b[0m \u001b[0mcounties\u001b[0m\u001b[0;34m-\u001b[0m\u001b[0;36m1\u001b[0m\u001b[0;34m,\u001b[0m \u001b[0mfirstround\u001b[0m \u001b[0;34m=\u001b[0m \u001b[0;32mFalse\u001b[0m\u001b[0;34m)\u001b[0m\u001b[0;34m\u001b[0m\u001b[0;34m\u001b[0m\u001b[0m\n\u001b[0m",
      "\u001b[0;32m/tmp/ipykernel_3232164/3227679587.py\u001b[0m in \u001b[0;36mmotifsearch2\u001b[0;34m(df, x, id, counties, minval, motifpairs, min_coeff, firstround)\u001b[0m\n\u001b[1;32m     30\u001b[0m     \u001b[0mnewdf\u001b[0m \u001b[0;34m=\u001b[0m \u001b[0mdf\u001b[0m\u001b[0;34m.\u001b[0m\u001b[0mdrop\u001b[0m\u001b[0;34m(\u001b[0m\u001b[0mdf\u001b[0m\u001b[0;34m.\u001b[0m\u001b[0mloc\u001b[0m\u001b[0;34m[\u001b[0m\u001b[0mdf\u001b[0m\u001b[0;34m[\u001b[0m\u001b[0mid\u001b[0m\u001b[0;34m]\u001b[0m \u001b[0;34m==\u001b[0m \u001b[0mneighbor_county\u001b[0m\u001b[0;34m]\u001b[0m\u001b[0;34m.\u001b[0m\u001b[0mindex\u001b[0m\u001b[0;34m)\u001b[0m\u001b[0;34m\u001b[0m\u001b[0;34m\u001b[0m\u001b[0m\n\u001b[1;32m     31\u001b[0m \u001b[0;34m\u001b[0m\u001b[0m\n\u001b[0;32m---> 32\u001b[0;31m     \u001b[0;32mreturn\u001b[0m \u001b[0mmotifsearch2\u001b[0m\u001b[0;34m(\u001b[0m\u001b[0mnewdf\u001b[0m\u001b[0;34m,\u001b[0m\u001b[0mx\u001b[0m\u001b[0;34m,\u001b[0m\u001b[0mid\u001b[0m\u001b[0;34m,\u001b[0m \u001b[0mminval\u001b[0m \u001b[0;34m=\u001b[0m \u001b[0mminval\u001b[0m\u001b[0;34m,\u001b[0m\u001b[0mmotifpairs\u001b[0m \u001b[0;34m=\u001b[0m \u001b[0mmotifpairs\u001b[0m\u001b[0;34m,\u001b[0m \u001b[0mmin_coeff\u001b[0m \u001b[0;34m=\u001b[0m \u001b[0mmin_coeff\u001b[0m\u001b[0;34m,\u001b[0m \u001b[0mcounties\u001b[0m \u001b[0;34m=\u001b[0m \u001b[0mcounties\u001b[0m\u001b[0;34m-\u001b[0m\u001b[0;36m1\u001b[0m\u001b[0;34m,\u001b[0m \u001b[0mfirstround\u001b[0m \u001b[0;34m=\u001b[0m \u001b[0;32mFalse\u001b[0m\u001b[0;34m)\u001b[0m\u001b[0;34m\u001b[0m\u001b[0;34m\u001b[0m\u001b[0m\n\u001b[0m",
      "\u001b[0;32m/tmp/ipykernel_3232164/3227679587.py\u001b[0m in \u001b[0;36mmotifsearch2\u001b[0;34m(df, x, id, counties, minval, motifpairs, min_coeff, firstround)\u001b[0m\n\u001b[1;32m     30\u001b[0m     \u001b[0mnewdf\u001b[0m \u001b[0;34m=\u001b[0m \u001b[0mdf\u001b[0m\u001b[0;34m.\u001b[0m\u001b[0mdrop\u001b[0m\u001b[0;34m(\u001b[0m\u001b[0mdf\u001b[0m\u001b[0;34m.\u001b[0m\u001b[0mloc\u001b[0m\u001b[0;34m[\u001b[0m\u001b[0mdf\u001b[0m\u001b[0;34m[\u001b[0m\u001b[0mid\u001b[0m\u001b[0;34m]\u001b[0m \u001b[0;34m==\u001b[0m \u001b[0mneighbor_county\u001b[0m\u001b[0;34m]\u001b[0m\u001b[0;34m.\u001b[0m\u001b[0mindex\u001b[0m\u001b[0;34m)\u001b[0m\u001b[0;34m\u001b[0m\u001b[0;34m\u001b[0m\u001b[0m\n\u001b[1;32m     31\u001b[0m \u001b[0;34m\u001b[0m\u001b[0m\n\u001b[0;32m---> 32\u001b[0;31m     \u001b[0;32mreturn\u001b[0m \u001b[0mmotifsearch2\u001b[0m\u001b[0;34m(\u001b[0m\u001b[0mnewdf\u001b[0m\u001b[0;34m,\u001b[0m\u001b[0mx\u001b[0m\u001b[0;34m,\u001b[0m\u001b[0mid\u001b[0m\u001b[0;34m,\u001b[0m \u001b[0mminval\u001b[0m \u001b[0;34m=\u001b[0m \u001b[0mminval\u001b[0m\u001b[0;34m,\u001b[0m\u001b[0mmotifpairs\u001b[0m \u001b[0;34m=\u001b[0m \u001b[0mmotifpairs\u001b[0m\u001b[0;34m,\u001b[0m \u001b[0mmin_coeff\u001b[0m \u001b[0;34m=\u001b[0m \u001b[0mmin_coeff\u001b[0m\u001b[0;34m,\u001b[0m \u001b[0mcounties\u001b[0m \u001b[0;34m=\u001b[0m \u001b[0mcounties\u001b[0m\u001b[0;34m-\u001b[0m\u001b[0;36m1\u001b[0m\u001b[0;34m,\u001b[0m \u001b[0mfirstround\u001b[0m \u001b[0;34m=\u001b[0m \u001b[0;32mFalse\u001b[0m\u001b[0;34m)\u001b[0m\u001b[0;34m\u001b[0m\u001b[0;34m\u001b[0m\u001b[0m\n\u001b[0m",
      "\u001b[0;32m/tmp/ipykernel_3232164/3227679587.py\u001b[0m in \u001b[0;36mmotifsearch2\u001b[0;34m(df, x, id, counties, minval, motifpairs, min_coeff, firstround)\u001b[0m\n\u001b[1;32m     30\u001b[0m     \u001b[0mnewdf\u001b[0m \u001b[0;34m=\u001b[0m \u001b[0mdf\u001b[0m\u001b[0;34m.\u001b[0m\u001b[0mdrop\u001b[0m\u001b[0;34m(\u001b[0m\u001b[0mdf\u001b[0m\u001b[0;34m.\u001b[0m\u001b[0mloc\u001b[0m\u001b[0;34m[\u001b[0m\u001b[0mdf\u001b[0m\u001b[0;34m[\u001b[0m\u001b[0mid\u001b[0m\u001b[0;34m]\u001b[0m \u001b[0;34m==\u001b[0m \u001b[0mneighbor_county\u001b[0m\u001b[0;34m]\u001b[0m\u001b[0;34m.\u001b[0m\u001b[0mindex\u001b[0m\u001b[0;34m)\u001b[0m\u001b[0;34m\u001b[0m\u001b[0;34m\u001b[0m\u001b[0m\n\u001b[1;32m     31\u001b[0m \u001b[0;34m\u001b[0m\u001b[0m\n\u001b[0;32m---> 32\u001b[0;31m     \u001b[0;32mreturn\u001b[0m \u001b[0mmotifsearch2\u001b[0m\u001b[0;34m(\u001b[0m\u001b[0mnewdf\u001b[0m\u001b[0;34m,\u001b[0m\u001b[0mx\u001b[0m\u001b[0;34m,\u001b[0m\u001b[0mid\u001b[0m\u001b[0;34m,\u001b[0m \u001b[0mminval\u001b[0m \u001b[0;34m=\u001b[0m \u001b[0mminval\u001b[0m\u001b[0;34m,\u001b[0m\u001b[0mmotifpairs\u001b[0m \u001b[0;34m=\u001b[0m \u001b[0mmotifpairs\u001b[0m\u001b[0;34m,\u001b[0m \u001b[0mmin_coeff\u001b[0m \u001b[0;34m=\u001b[0m \u001b[0mmin_coeff\u001b[0m\u001b[0;34m,\u001b[0m \u001b[0mcounties\u001b[0m \u001b[0;34m=\u001b[0m \u001b[0mcounties\u001b[0m\u001b[0;34m-\u001b[0m\u001b[0;36m1\u001b[0m\u001b[0;34m,\u001b[0m \u001b[0mfirstround\u001b[0m \u001b[0;34m=\u001b[0m \u001b[0;32mFalse\u001b[0m\u001b[0;34m)\u001b[0m\u001b[0;34m\u001b[0m\u001b[0;34m\u001b[0m\u001b[0m\n\u001b[0m",
      "\u001b[0;32m/tmp/ipykernel_3232164/3227679587.py\u001b[0m in \u001b[0;36mmotifsearch2\u001b[0;34m(df, x, id, counties, minval, motifpairs, min_coeff, firstround)\u001b[0m\n\u001b[1;32m     30\u001b[0m     \u001b[0mnewdf\u001b[0m \u001b[0;34m=\u001b[0m \u001b[0mdf\u001b[0m\u001b[0;34m.\u001b[0m\u001b[0mdrop\u001b[0m\u001b[0;34m(\u001b[0m\u001b[0mdf\u001b[0m\u001b[0;34m.\u001b[0m\u001b[0mloc\u001b[0m\u001b[0;34m[\u001b[0m\u001b[0mdf\u001b[0m\u001b[0;34m[\u001b[0m\u001b[0mid\u001b[0m\u001b[0;34m]\u001b[0m \u001b[0;34m==\u001b[0m \u001b[0mneighbor_county\u001b[0m\u001b[0;34m]\u001b[0m\u001b[0;34m.\u001b[0m\u001b[0mindex\u001b[0m\u001b[0;34m)\u001b[0m\u001b[0;34m\u001b[0m\u001b[0;34m\u001b[0m\u001b[0m\n\u001b[1;32m     31\u001b[0m \u001b[0;34m\u001b[0m\u001b[0m\n\u001b[0;32m---> 32\u001b[0;31m     \u001b[0;32mreturn\u001b[0m \u001b[0mmotifsearch2\u001b[0m\u001b[0;34m(\u001b[0m\u001b[0mnewdf\u001b[0m\u001b[0;34m,\u001b[0m\u001b[0mx\u001b[0m\u001b[0;34m,\u001b[0m\u001b[0mid\u001b[0m\u001b[0;34m,\u001b[0m \u001b[0mminval\u001b[0m \u001b[0;34m=\u001b[0m \u001b[0mminval\u001b[0m\u001b[0;34m,\u001b[0m\u001b[0mmotifpairs\u001b[0m \u001b[0;34m=\u001b[0m \u001b[0mmotifpairs\u001b[0m\u001b[0;34m,\u001b[0m \u001b[0mmin_coeff\u001b[0m \u001b[0;34m=\u001b[0m \u001b[0mmin_coeff\u001b[0m\u001b[0;34m,\u001b[0m \u001b[0mcounties\u001b[0m \u001b[0;34m=\u001b[0m \u001b[0mcounties\u001b[0m\u001b[0;34m-\u001b[0m\u001b[0;36m1\u001b[0m\u001b[0;34m,\u001b[0m \u001b[0mfirstround\u001b[0m \u001b[0;34m=\u001b[0m \u001b[0;32mFalse\u001b[0m\u001b[0;34m)\u001b[0m\u001b[0;34m\u001b[0m\u001b[0;34m\u001b[0m\u001b[0m\n\u001b[0m",
      "\u001b[0;32m/tmp/ipykernel_3232164/3227679587.py\u001b[0m in \u001b[0;36mmotifsearch2\u001b[0;34m(df, x, id, counties, minval, motifpairs, min_coeff, firstround)\u001b[0m\n\u001b[1;32m     30\u001b[0m     \u001b[0mnewdf\u001b[0m \u001b[0;34m=\u001b[0m \u001b[0mdf\u001b[0m\u001b[0;34m.\u001b[0m\u001b[0mdrop\u001b[0m\u001b[0;34m(\u001b[0m\u001b[0mdf\u001b[0m\u001b[0;34m.\u001b[0m\u001b[0mloc\u001b[0m\u001b[0;34m[\u001b[0m\u001b[0mdf\u001b[0m\u001b[0;34m[\u001b[0m\u001b[0mid\u001b[0m\u001b[0;34m]\u001b[0m \u001b[0;34m==\u001b[0m \u001b[0mneighbor_county\u001b[0m\u001b[0;34m]\u001b[0m\u001b[0;34m.\u001b[0m\u001b[0mindex\u001b[0m\u001b[0;34m)\u001b[0m\u001b[0;34m\u001b[0m\u001b[0;34m\u001b[0m\u001b[0m\n\u001b[1;32m     31\u001b[0m \u001b[0;34m\u001b[0m\u001b[0m\n\u001b[0;32m---> 32\u001b[0;31m     \u001b[0;32mreturn\u001b[0m \u001b[0mmotifsearch2\u001b[0m\u001b[0;34m(\u001b[0m\u001b[0mnewdf\u001b[0m\u001b[0;34m,\u001b[0m\u001b[0mx\u001b[0m\u001b[0;34m,\u001b[0m\u001b[0mid\u001b[0m\u001b[0;34m,\u001b[0m \u001b[0mminval\u001b[0m \u001b[0;34m=\u001b[0m \u001b[0mminval\u001b[0m\u001b[0;34m,\u001b[0m\u001b[0mmotifpairs\u001b[0m \u001b[0;34m=\u001b[0m \u001b[0mmotifpairs\u001b[0m\u001b[0;34m,\u001b[0m \u001b[0mmin_coeff\u001b[0m \u001b[0;34m=\u001b[0m \u001b[0mmin_coeff\u001b[0m\u001b[0;34m,\u001b[0m \u001b[0mcounties\u001b[0m \u001b[0;34m=\u001b[0m \u001b[0mcounties\u001b[0m\u001b[0;34m-\u001b[0m\u001b[0;36m1\u001b[0m\u001b[0;34m,\u001b[0m \u001b[0mfirstround\u001b[0m \u001b[0;34m=\u001b[0m \u001b[0;32mFalse\u001b[0m\u001b[0;34m)\u001b[0m\u001b[0;34m\u001b[0m\u001b[0;34m\u001b[0m\u001b[0m\n\u001b[0m",
      "\u001b[0;32m/tmp/ipykernel_3232164/3227679587.py\u001b[0m in \u001b[0;36mmotifsearch2\u001b[0;34m(df, x, id, counties, minval, motifpairs, min_coeff, firstround)\u001b[0m\n\u001b[1;32m     30\u001b[0m     \u001b[0mnewdf\u001b[0m \u001b[0;34m=\u001b[0m \u001b[0mdf\u001b[0m\u001b[0;34m.\u001b[0m\u001b[0mdrop\u001b[0m\u001b[0;34m(\u001b[0m\u001b[0mdf\u001b[0m\u001b[0;34m.\u001b[0m\u001b[0mloc\u001b[0m\u001b[0;34m[\u001b[0m\u001b[0mdf\u001b[0m\u001b[0;34m[\u001b[0m\u001b[0mid\u001b[0m\u001b[0;34m]\u001b[0m \u001b[0;34m==\u001b[0m \u001b[0mneighbor_county\u001b[0m\u001b[0;34m]\u001b[0m\u001b[0;34m.\u001b[0m\u001b[0mindex\u001b[0m\u001b[0;34m)\u001b[0m\u001b[0;34m\u001b[0m\u001b[0;34m\u001b[0m\u001b[0m\n\u001b[1;32m     31\u001b[0m \u001b[0;34m\u001b[0m\u001b[0m\n\u001b[0;32m---> 32\u001b[0;31m     \u001b[0;32mreturn\u001b[0m \u001b[0mmotifsearch2\u001b[0m\u001b[0;34m(\u001b[0m\u001b[0mnewdf\u001b[0m\u001b[0;34m,\u001b[0m\u001b[0mx\u001b[0m\u001b[0;34m,\u001b[0m\u001b[0mid\u001b[0m\u001b[0;34m,\u001b[0m \u001b[0mminval\u001b[0m \u001b[0;34m=\u001b[0m \u001b[0mminval\u001b[0m\u001b[0;34m,\u001b[0m\u001b[0mmotifpairs\u001b[0m \u001b[0;34m=\u001b[0m \u001b[0mmotifpairs\u001b[0m\u001b[0;34m,\u001b[0m \u001b[0mmin_coeff\u001b[0m \u001b[0;34m=\u001b[0m \u001b[0mmin_coeff\u001b[0m\u001b[0;34m,\u001b[0m \u001b[0mcounties\u001b[0m \u001b[0;34m=\u001b[0m \u001b[0mcounties\u001b[0m\u001b[0;34m-\u001b[0m\u001b[0;36m1\u001b[0m\u001b[0;34m,\u001b[0m \u001b[0mfirstround\u001b[0m \u001b[0;34m=\u001b[0m \u001b[0;32mFalse\u001b[0m\u001b[0;34m)\u001b[0m\u001b[0;34m\u001b[0m\u001b[0;34m\u001b[0m\u001b[0m\n\u001b[0m",
      "\u001b[0;32m/tmp/ipykernel_3232164/3227679587.py\u001b[0m in \u001b[0;36mmotifsearch2\u001b[0;34m(df, x, id, counties, minval, motifpairs, min_coeff, firstround)\u001b[0m\n\u001b[1;32m     10\u001b[0m     \u001b[0mvals\u001b[0m \u001b[0;34m=\u001b[0m \u001b[0mnp\u001b[0m\u001b[0;34m.\u001b[0m\u001b[0masarray\u001b[0m\u001b[0;34m(\u001b[0m\u001b[0mvals\u001b[0m\u001b[0;34m)\u001b[0m\u001b[0;34m\u001b[0m\u001b[0;34m\u001b[0m\u001b[0m\n\u001b[1;32m     11\u001b[0m \u001b[0;34m\u001b[0m\u001b[0m\n\u001b[0;32m---> 12\u001b[0;31m     \u001b[0mmp\u001b[0m \u001b[0;34m=\u001b[0m \u001b[0mstumpy\u001b[0m\u001b[0;34m.\u001b[0m\u001b[0mstump\u001b[0m\u001b[0;34m(\u001b[0m\u001b[0mvals\u001b[0m\u001b[0;34m,\u001b[0m\u001b[0;36m378\u001b[0m\u001b[0;34m)\u001b[0m\u001b[0;34m.\u001b[0m\u001b[0mastype\u001b[0m\u001b[0;34m(\u001b[0m\u001b[0mnp\u001b[0m\u001b[0;34m.\u001b[0m\u001b[0mfloat64\u001b[0m\u001b[0;34m)\u001b[0m\u001b[0;34m\u001b[0m\u001b[0;34m\u001b[0m\u001b[0m\n\u001b[0m\u001b[1;32m     13\u001b[0m \u001b[0;34m\u001b[0m\u001b[0m\n\u001b[1;32m     14\u001b[0m     \u001b[0;31m# set minimum value\u001b[0m\u001b[0;34m\u001b[0m\u001b[0;34m\u001b[0m\u001b[0;34m\u001b[0m\u001b[0m\n",
      "\u001b[0;32m~/anaconda3/envs/move_env/lib/python3.8/site-packages/stumpy/core.py\u001b[0m in \u001b[0;36minner_wrapper\u001b[0;34m(*args, **kwargs)\u001b[0m\n\u001b[1;32m    125\u001b[0m             \u001b[0mis_same_params\u001b[0m \u001b[0;34m=\u001b[0m \u001b[0m_compare_parameters\u001b[0m\u001b[0;34m(\u001b[0m\u001b[0mnorm\u001b[0m\u001b[0;34m,\u001b[0m \u001b[0mnon_norm\u001b[0m\u001b[0;34m,\u001b[0m \u001b[0mexclude\u001b[0m\u001b[0;34m=\u001b[0m\u001b[0mexclude\u001b[0m\u001b[0;34m)\u001b[0m\u001b[0;34m\u001b[0m\u001b[0;34m\u001b[0m\u001b[0m\n\u001b[1;32m    126\u001b[0m             \u001b[0;32mif\u001b[0m \u001b[0;32mnot\u001b[0m \u001b[0mis_same_params\u001b[0m \u001b[0;32mor\u001b[0m \u001b[0mkwargs\u001b[0m\u001b[0;34m.\u001b[0m\u001b[0mget\u001b[0m\u001b[0;34m(\u001b[0m\u001b[0;34m\"normalize\"\u001b[0m\u001b[0;34m,\u001b[0m \u001b[0;32mTrue\u001b[0m\u001b[0;34m)\u001b[0m\u001b[0;34m:\u001b[0m\u001b[0;34m\u001b[0m\u001b[0;34m\u001b[0m\u001b[0m\n\u001b[0;32m--> 127\u001b[0;31m                 \u001b[0;32mreturn\u001b[0m \u001b[0mnorm\u001b[0m\u001b[0;34m(\u001b[0m\u001b[0;34m*\u001b[0m\u001b[0margs\u001b[0m\u001b[0;34m,\u001b[0m \u001b[0;34m**\u001b[0m\u001b[0mkwargs\u001b[0m\u001b[0;34m)\u001b[0m\u001b[0;34m\u001b[0m\u001b[0;34m\u001b[0m\u001b[0m\n\u001b[0m\u001b[1;32m    128\u001b[0m             \u001b[0;32melse\u001b[0m\u001b[0;34m:\u001b[0m\u001b[0;34m\u001b[0m\u001b[0;34m\u001b[0m\u001b[0m\n\u001b[1;32m    129\u001b[0m                 \u001b[0mkwargs\u001b[0m \u001b[0;34m=\u001b[0m \u001b[0;34m{\u001b[0m\u001b[0mk\u001b[0m\u001b[0;34m:\u001b[0m \u001b[0mv\u001b[0m \u001b[0;32mfor\u001b[0m \u001b[0mk\u001b[0m\u001b[0;34m,\u001b[0m \u001b[0mv\u001b[0m \u001b[0;32min\u001b[0m \u001b[0mkwargs\u001b[0m\u001b[0;34m.\u001b[0m\u001b[0mitems\u001b[0m\u001b[0;34m(\u001b[0m\u001b[0;34m)\u001b[0m \u001b[0;32mif\u001b[0m \u001b[0mk\u001b[0m \u001b[0;34m!=\u001b[0m \u001b[0;34m\"normalize\"\u001b[0m\u001b[0;34m}\u001b[0m\u001b[0;34m\u001b[0m\u001b[0;34m\u001b[0m\u001b[0m\n",
      "\u001b[0;32m~/anaconda3/envs/move_env/lib/python3.8/site-packages/stumpy/stump.py\u001b[0m in \u001b[0;36mstump\u001b[0;34m(T_A, m, T_B, ignore_trivial, normalize)\u001b[0m\n\u001b[1;32m    564\u001b[0m         \u001b[0mdiags\u001b[0m \u001b[0;34m=\u001b[0m \u001b[0mnp\u001b[0m\u001b[0;34m.\u001b[0m\u001b[0marange\u001b[0m\u001b[0;34m(\u001b[0m\u001b[0;34m-\u001b[0m\u001b[0;34m(\u001b[0m\u001b[0mn_A\u001b[0m \u001b[0;34m-\u001b[0m \u001b[0mm\u001b[0m \u001b[0;34m+\u001b[0m \u001b[0;36m1\u001b[0m\u001b[0;34m)\u001b[0m \u001b[0;34m+\u001b[0m \u001b[0;36m1\u001b[0m\u001b[0;34m,\u001b[0m \u001b[0mn_B\u001b[0m \u001b[0;34m-\u001b[0m \u001b[0mm\u001b[0m \u001b[0;34m+\u001b[0m \u001b[0;36m1\u001b[0m\u001b[0;34m)\u001b[0m\u001b[0;34m\u001b[0m\u001b[0;34m\u001b[0m\u001b[0m\n\u001b[1;32m    565\u001b[0m \u001b[0;34m\u001b[0m\u001b[0m\n\u001b[0;32m--> 566\u001b[0;31m     P, I = _stump(\n\u001b[0m\u001b[1;32m    567\u001b[0m         \u001b[0mT_A\u001b[0m\u001b[0;34m,\u001b[0m\u001b[0;34m\u001b[0m\u001b[0;34m\u001b[0m\u001b[0m\n\u001b[1;32m    568\u001b[0m         \u001b[0mT_B\u001b[0m\u001b[0;34m,\u001b[0m\u001b[0;34m\u001b[0m\u001b[0;34m\u001b[0m\u001b[0m\n",
      "\u001b[0;31mKeyboardInterrupt\u001b[0m: "
     ]
    }
   ],
   "source": [
    "nation_mp = motifsearch2(df3, 'sdi_umd','name',len(df3['name'].unique()),min_coeff=1.2)"
   ]
  },
  {
   "cell_type": "code",
   "execution_count": 31,
   "id": "e4357d4a-dc72-4fef-99c2-42f1cec1d418",
   "metadata": {},
   "outputs": [
    {
     "name": "stdout",
     "output_type": "stream",
     "text": [
      "3.2171064809940955\n"
     ]
    }
   ],
   "source": [
    "test2mp =stumpy.stump(T_A = df3[df3['name'] == 'Alameda County']['sdi_umd'],\n",
    "                        m = 378,\n",
    "                        T_B = df3[df3['name'] == 'Santa Clara County']['sdi_umd'],\n",
    "                        ignore_trivial = False)\n",
    "print(test2mp[0][0])"
   ]
  },
  {
   "cell_type": "code",
   "execution_count": null,
   "id": "800030ae-d0bb-496a-b0a6-d8d7d79d05cd",
   "metadata": {},
   "outputs": [],
   "source": [
    "ndict = {}\n",
    "for i in range(len(df3['fips'].unique())):\n",
    "    countyA = df3['fips'].unique()[i]\n",
    "    \n",
    "    for j in range(i+1,len(df3['fips'].unique())):\n",
    "        countyB = df3['fips'].unique()[j]\n",
    "        # checks length of first county skips \n",
    "        if len(df3[df3['fips'] == countyA]) != 378:\n",
    "            continue\n",
    "        # checks length of second county, skips if not 378 and prints county fips    \n",
    "        if len(df3[df3['fips'] == countyB]) != 378:\n",
    "            continue     \n",
    "        ndict[str(countyA)+'+'+str(countyB)] = stumpy.stump(T_A = df3[df3['fips'] == countyA]['sdi_umd'],\n",
    "                        m = 378,\n",
    "                        T_B = df3[df3['fips'] == countyB]['sdi_umd'],\n",
    "                        ignore_trivial = False)[0][0]"
   ]
  },
  {
   "cell_type": "code",
   "execution_count": null,
   "id": "94c78d44-e094-4ef0-86a6-0abf77c4cd97",
   "metadata": {},
   "outputs": [],
   "source": [
    "df3[df3['fips'] == 20011]"
   ]
  },
  {
   "cell_type": "code",
   "execution_count": null,
   "id": "7b8b98d2-b620-4ee9-bc77-0120a4e30e1f",
   "metadata": {},
   "outputs": [],
   "source": []
  },
  {
   "cell_type": "code",
   "execution_count": 99,
   "id": "f67614d8-5ed5-4a7a-ae56-ca260f80bbf6",
   "metadata": {},
   "outputs": [],
   "source": [
    "ndict\n",
    "newdict = {k: v for k, v in sorted(ndict.items(), key=lambda item: item[1])}"
   ]
  },
  {
   "cell_type": "code",
   "execution_count": 104,
   "id": "14be9c54-48b1-4c80-a8e8-fa36cfe68420",
   "metadata": {},
   "outputs": [],
   "source": [
    "newnewdict = {}\n",
    "for (k,v) in newdict.items():\n",
    "    if v < sum(list(newdict.values()))/len(newdict.values())*(1/3):\n",
    "        newnewdict[tuple(k.split('+'))] = v\n",
    "    else:\n",
    "        break"
   ]
  },
  {
   "cell_type": "code",
   "execution_count": 87,
   "id": "b5cfde2b-5cf3-4916-b255-7ff1e1f812d4",
   "metadata": {},
   "outputs": [
    {
     "data": {
      "text/plain": [
       "['6085+6001', '42043+42077', '26139+26005', '42017+34019', '27037+27019']"
      ]
     },
     "execution_count": 87,
     "metadata": {},
     "output_type": "execute_result"
    }
   ],
   "source": [
    "sum(list(newdict.values()))/len(newdict.values())*.5"
   ]
  },
  {
   "cell_type": "code",
   "execution_count": 105,
   "id": "320ad34e-0ed9-421b-9d04-5a89e9b5206f",
   "metadata": {},
   "outputs": [],
   "source": [
    "fipspairs = merge([list(k) for k in newnewdict.keys()])"
   ]
  },
  {
   "cell_type": "code",
   "execution_count": 106,
   "id": "cf63d481-60a1-4370-9e39-2ac3f9b0ade6",
   "metadata": {},
   "outputs": [
    {
     "data": {
      "text/plain": [
       "[{'6001', '6085'},\n",
       " {'24005',\n",
       "  '24025',\n",
       "  '24027',\n",
       "  '24037',\n",
       "  '25009',\n",
       "  '25013',\n",
       "  '33015',\n",
       "  '34019',\n",
       "  '34037',\n",
       "  '36007',\n",
       "  '36067',\n",
       "  '36103',\n",
       "  '42017',\n",
       "  '42043',\n",
       "  '42077',\n",
       "  '42079',\n",
       "  '51153',\n",
       "  '9005',\n",
       "  '9009'},\n",
       " {'26005', '26099', '26125', '26139', '26145'},\n",
       " {'27019', '27037'},\n",
       " {'48157', '48453', '48491'},\n",
       " {'6095', '6113'},\n",
       " {'55015', '55017', '55073', '55087', '55133'},\n",
       " {'18019', '18043'},\n",
       " {'12009', '12083', '12127'},\n",
       " {'48139', '48221', '48367'},\n",
       " {'55039', '55127'},\n",
       " {'39003', '39063'},\n",
       " {'13013', '13015'},\n",
       " {'53011', '53053'},\n",
       " {'13139', '45045'},\n",
       " {'39013', '39029'},\n",
       " {'12015', '12069'},\n",
       " {'24031', '51510'},\n",
       " {'18005', '21037', '39057', '39153'}]"
      ]
     },
     "execution_count": 106,
     "metadata": {},
     "output_type": "execute_result"
    }
   ],
   "source": [
    "fipspairs"
   ]
  },
  {
   "cell_type": "code",
   "execution_count": null,
   "id": "7e1e30d1-e595-4834-b405-da60c674891d",
   "metadata": {},
   "outputs": [],
   "source": []
  }
 ],
 "metadata": {
  "kernelspec": {
   "display_name": "move_env",
   "language": "python",
   "name": "move_env"
  },
  "language_info": {
   "codemirror_mode": {
    "name": "ipython",
    "version": 3
   },
   "file_extension": ".py",
   "mimetype": "text/x-python",
   "name": "python",
   "nbconvert_exporter": "python",
   "pygments_lexer": "ipython3",
   "version": "3.8.12"
  }
 },
 "nbformat": 4,
 "nbformat_minor": 5
}
